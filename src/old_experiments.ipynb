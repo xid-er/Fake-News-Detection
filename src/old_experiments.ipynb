{
 "cells": [
  {
   "cell_type": "markdown",
   "id": "9b27bf5b",
   "metadata": {},
   "source": [
    "## PHEME Dataset (330 Tweets)"
   ]
  },
  {
   "cell_type": "code",
   "execution_count": null,
   "id": "8ec3b1ad",
   "metadata": {},
   "outputs": [],
   "source": [
    "def get_src_text(row):\n",
    "    path = \"data/en/\" + row['event'] + \"/\" + str(row['threadid']) + \"/source-tweets/\" + str(row['tweetid']) + \".json\"\n",
    "    with open(path, \"r\") as f:\n",
    "        source = json.loads(f.read())\n",
    "        return source['text']\n",
    "\n",
    "def is_true(row):\n",
    "    print(row)\n",
    "    path = \"data/en/\" + row['event'] + \"/\" + str(row['threadid']) + \"/annotation.json\"\n",
    "    with open(path, \"r\") as f:\n",
    "        source = json.loads(f.read())\n",
    "        return str(source.get('true', 'unverified'))"
   ]
  },
  {
   "cell_type": "code",
   "execution_count": null,
   "id": "03307b64",
   "metadata": {},
   "outputs": [],
   "source": [
    "# Dataset used: https://figshare.com/articles/dataset/PHEME_rumour_scheme_dataset_journalism_use_case/2068650\n",
    "df = pd.read_json(\"data/en-scheme-annotations.json\", dtype = {\"threadid\": str, \"tweetid\": str}, lines=True)\n",
    "\n",
    "df['true'] = df.apply(lambda row: is_true(row), axis=1)\n",
    "df['src_text'] = df.apply(lambda row: get_src_text(row), axis=1)\n",
    "\n",
    "print(df.head())"
   ]
  },
  {
   "cell_type": "code",
   "execution_count": null,
   "id": "8222ae6a",
   "metadata": {},
   "outputs": [],
   "source": [
    "def get_src_text_by_index(row):\n",
    "    return df.iloc[row.index]['src_text']\n",
    "\n",
    "accuracy = pd.DataFrame([test_labels, lrtfidf_test])\n",
    "print(accuracy)\n",
    "print(lrtfidf_test)\n",
    "print(test_labels)\n",
    "print(type(test_labels))\n",
    "test_df = pd.DataFrame(test_labels)\n",
    "test_df['predicted'] = lrtfidf_test\n",
    "print(test_df.apply(lambda row: get_src_text_by_index(row)))\n",
    "print(test_df)\n",
    "#test_df = pd.DataFrame({\"tweet_id\":test_labels[0], \"actual_label\": test_labels[1]})\n",
    "test_labels.add(lrtfidf_test)\n",
    "print(test_labels)"
   ]
  },
  {
   "cell_type": "markdown",
   "id": "573022a4",
   "metadata": {},
   "source": [
    "## Emoji tokenisation"
   ]
  },
  {
   "cell_type": "code",
   "execution_count": null,
   "id": "d0aa3e1b",
   "metadata": {},
   "outputs": [],
   "source": [
    "nlp_spacymoji = spacy.load(\"en_core_web_sm\")\n",
    "emoji = Emoji(nlp_spacymoji, merge_spans=True)\n",
    "nlp_spacymoji.add_pipe('emoji', first=True)\n",
    "# tokenised_train = train_frame.apply(lambda row: nlp_spacymoji(row['src_text']))\n",
    "# #tok_train = nlp_spacymoji(train_text)\n",
    "# print(tokenised_train)\n",
    "\n",
    "def spacy_tokeniser(text):\n",
    "    tokens = []\n",
    "    for w in nlp_spacymoji(text):\n",
    "        tokens.append(w.lemma_.lower())\n",
    "    return tokens"
   ]
  }
 ],
 "metadata": {
  "kernelspec": {
   "display_name": "Python 3 (ipykernel)",
   "language": "python",
   "name": "python3"
  },
  "language_info": {
   "codemirror_mode": {
    "name": "ipython",
    "version": 3
   },
   "file_extension": ".py",
   "mimetype": "text/x-python",
   "name": "python",
   "nbconvert_exporter": "python",
   "pygments_lexer": "ipython3",
   "version": "3.9.6"
  }
 },
 "nbformat": 4,
 "nbformat_minor": 5
}
