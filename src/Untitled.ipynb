{
 "cells": [
  {
   "cell_type": "code",
   "execution_count": null,
   "id": "90c3ce84",
   "metadata": {},
   "outputs": [],
   "source": [
    "import torch\n",
    "\n",
    "# If there's a GPU available...\n",
    "if torch.cuda.is_available():    \n",
    "\n",
    "    # Tell PyTorch to use the GPU.    \n",
    "    device = torch.device(\"cuda\")\n",
    "\n",
    "    print('There are %d GPU(s) available.' % torch.cuda.device_count())\n",
    "\n",
    "    print('We will use the GPU:', torch.cuda.get_device_name(0))\n",
    "\n",
    "# If not...\n",
    "else:\n",
    "    print('No GPU available, using the CPU instead.')\n",
    "    device = torch.device(\"cpu\")\n",
    "    \n",
    "print(torch.cuda.device_count())\n",
    "print(torch.cuda.is_available())\n",
    "\n",
    "#torch.cuda.FloatTensor() # Looks at error message"
   ]
  }
 ],
 "metadata": {
  "kernelspec": {
   "display_name": "fnews",
   "language": "python",
   "name": "fnews"
  }
 },
 "nbformat": 4,
 "nbformat_minor": 5
}
