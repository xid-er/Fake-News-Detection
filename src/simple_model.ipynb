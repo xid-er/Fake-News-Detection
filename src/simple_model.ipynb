{
 "cells": [
  {
   "cell_type": "code",
   "execution_count": 1,
   "id": "8b55af2c",
   "metadata": {},
   "outputs": [],
   "source": [
    "# imports"
   ]
  },
  {
   "cell_type": "code",
   "execution_count": null,
   "id": "65bd1c10",
   "metadata": {},
   "outputs": [],
   "source": [
    "def evaluation_summary(description, true_labels, predictions):\n",
    "  print(\"Evaluation for: \" + description)\n",
    "  print(classification_report(true_labels, predictions,  digits=3, zero_division=0))\n",
    "  print('\\nConfusion matrix:\\n',confusion_matrix(true_labels, predictions))"
   ]
  },
  {
   "cell_type": "code",
   "execution_count": null,
   "id": "7a7d6d1a",
   "metadata": {},
   "outputs": [],
   "source": []
  },
  {
   "cell_type": "code",
   "execution_count": null,
   "id": "46083f3c",
   "metadata": {},
   "outputs": [],
   "source": [
    "# Get features for TF-IDF\n",
    "tfidf = TfidfVectorizer()#tokenizer=spacy_tokeniser)\n",
    "tfidf.fit(train_text)\n",
    "train_features = tfidf.transform(train_text)\n",
    "#validation_features = tfidf.transform(val_text)\n",
    "test_features = tfidf.transform(test_text)"
   ]
  },
  {
   "cell_type": "code",
   "execution_count": null,
   "id": "20046fa0",
   "metadata": {},
   "outputs": [],
   "source": [
    "# SVC\n",
    "svc = SVC(kernel='rbf')\n",
    "svc_model = svc.fit(train_features, train_labels)\n",
    "svc_test = svc_model.predict(test_features)\n",
    "evaluation_summary(\"SVC test\", test_labels, svc_test)\n",
    "\n",
    "# Logistic Regression with TF-IDF\n",
    "lr_tfidf = LogisticRegression()\n",
    "lr_model_tfidf = lr_tfidf.fit(train_features, train_labels)\n",
    "lrtfidf_test = lr_model_tfidf.predict(test_features)\n",
    "evaluation_summary(\"LR (TF-IDF) test\", test_labels, lrtfidf_test)\n",
    "\n",
    "# Dummy Majority\n",
    "dumb = DummyClassifier(strategy='most_frequent')\n",
    "dumb.fit(train_features, train_labels)\n",
    "dumb_test = dumb.predict(test_features)\n",
    "evaluation_summary(\"Dummy MF test\", test_labels, dumb_test)"
   ]
  },
  {
   "cell_type": "markdown",
   "id": "47afd55d",
   "metadata": {},
   "source": [
    "## Make Prediction"
   ]
  },
  {
   "cell_type": "code",
   "execution_count": null,
   "id": "f3229b14",
   "metadata": {},
   "outputs": [],
   "source": [
    "# Get output\n",
    "\n",
    "input_text = \"Watch video showing gunfire inside Canada's pa\"\n",
    "input_df = pd.DataFrame({\"src_text\": [input_text]})\n",
    "input_features = tfidf.transform(input_df)\n",
    "\n",
    "predicted_label = lr_model_tfidf.predict(input_features)\n",
    "\n",
    "print(predicted_label)"
   ]
  }
 ],
 "metadata": {
  "kernelspec": {
   "display_name": "Python 3 (ipykernel)",
   "language": "python",
   "name": "python3"
  },
  "language_info": {
   "codemirror_mode": {
    "name": "ipython",
    "version": 3
   },
   "file_extension": ".py",
   "mimetype": "text/x-python",
   "name": "python",
   "nbconvert_exporter": "python",
   "pygments_lexer": "ipython3",
   "version": "3.9.6"
  }
 },
 "nbformat": 4,
 "nbformat_minor": 5
}
