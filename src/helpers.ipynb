{
 "cells": [
  {
   "cell_type": "code",
   "execution_count": 2,
   "id": "25be0798",
   "metadata": {},
   "outputs": [],
   "source": [
    "import pandas as pd"
   ]
  },
  {
   "cell_type": "markdown",
   "id": "94eb0ce8",
   "metadata": {},
   "source": [
    "## Fetching Tweet data from Twitter"
   ]
  },
  {
   "cell_type": "code",
   "execution_count": null,
   "id": "d2d2fd14",
   "metadata": {},
   "outputs": [],
   "source": [
    "politifact_fake_df = pd.read_csv(\"data/FakeNewsNet/dataset/politifact_fake.csv\")\n",
    "\n",
    "pf_fake_tweet_ids = politifact_fake_df['tweet_ids'].str.split('\\t').explode().tolist()\n",
    "print(len(pf_fake_tweet_ids))\n",
    "print()\n",
    "\n",
    "politifact_real_df = pd.read_csv(\"data/FakeNewsNet/dataset/politifact_real.csv\")\n",
    "pf_real_tweet_ids = politifact_real_df['tweet_ids'].str.split('\\t').explode().tolist()\n",
    "print(len(pf_real_tweet_ids))\n",
    "\n",
    "# def concat_tweet_ids(row):\n",
    "#     global pf_fake_tweet_ids\n",
    "#     print('tweet_ids' in row)\n",
    "#     if 'tweet_ids' in row and row['tweet_ids'] != \"\":\n",
    "#         pf_fake_tweet_ids = pf_fake_tweet_ids + row['tweet_ids'].split(\"\\t\")\n",
    "    \n",
    "# politifact_fake_df.apply(lambda x: concat_tweet_ids(x))\n",
    "# print(pf_fake_tweet_ids)\n",
    "\n",
    "fake_short = pf_fake_tweet_ids[:20]\n",
    "\n",
    "print(fake_short)"
   ]
  },
  {
   "cell_type": "code",
   "execution_count": null,
   "id": "4d94ad93",
   "metadata": {},
   "outputs": [],
   "source": [
    "api_key = os.environ.get('APIKey')\n",
    "api_key_secret = os.environ.get('APIKeySecret')\n",
    "access_token = os.environ.get('AccessToken')\n",
    "access_token_secret = os.environ.get('AccessTokenSecret')\n",
    "bearer_token = os.environ.get('BearerToken')"
   ]
  },
  {
   "cell_type": "code",
   "execution_count": null,
   "id": "4078eac3",
   "metadata": {},
   "outputs": [],
   "source": [
    "# Remove nans (don't kill grandmas though)\n",
    "# Fake\n",
    "print(len(pf_fake_tweet_ids))\n",
    "print(np.nan in pf_fake_tweet_ids)\n",
    "pf_fake_tweet_ids = [x for x in pf_fake_tweet_ids if x is not np.nan]\n",
    "print(len(pf_fake_tweet_ids))\n",
    "print(np.nan in pf_fake_tweet_ids)\n",
    "\n",
    "# Real\n",
    "print(len(pf_real_tweet_ids))\n",
    "print(np.nan in pf_real_tweet_ids)\n",
    "pf_real_tweet_ids = [x for x in pf_real_tweet_ids if x is not np.nan]\n",
    "print(len(pf_real_tweet_ids))\n",
    "print(np.nan in pf_real_tweet_ids)"
   ]
  },
  {
   "cell_type": "code",
   "execution_count": null,
   "id": "c8f47999",
   "metadata": {},
   "outputs": [],
   "source": [
    "classes = [pf_fake_tweet_ids, pf_real_tweet_ids]\n",
    "for news_class in classes:\n",
    "    IDs = news_class\n",
    "    n = len(IDs)\n",
    "    for batch_ix in range(0, n, 100):\n",
    "        if batch_ix % 500 == 0:\n",
    "            print(\"Tweets analysed so far:\", batch_ix)\n",
    "\n",
    "        response = client.get_tweets(IDs[batch_ix : min(batch_ix + 100, n)], \n",
    "                                     tweet_fields=\n",
    "                                         [\"created_at\", \"text\", \"lang\", \"author_id\", \"source\"],\n",
    "                                     user_fields=\n",
    "                                         [\"location\", \"description\", \"verified\"],\n",
    "                                     expansions=\"author_id\")\n",
    "\n",
    "        # https://www.kirenz.com/post/2021-12-10-twitter-api-v2-tweepy-and-pandas-in-python/twitter-api-v2-tweepy-and-pandas-in-python/\n",
    "        # Save data as dictionary\n",
    "        tweets_dict = response.json() \n",
    "\n",
    "        # Extract \"data\" value from dictionary\n",
    "        try:\n",
    "            tweets_data = tweets_dict['data'] # can fail if nans in Tweets\n",
    "            user_data = tweets_dict['includes']['users']\n",
    "\n",
    "            # Transform to pandas Dataframe\n",
    "            df_tweets = pd.json_normalize(tweets_data)\n",
    "            df_tweets.head()\n",
    "\n",
    "            # Transform to pandas Dataframe\n",
    "            df_users = pd.json_normalize(user_data)\n",
    "            df_users = df_users.rename(columns={'id': 'author_id'})\n",
    "            df_users.head()\n",
    "\n",
    "            df = pd.merge(df_tweets, df_users, on=[\"author_id\"])\n",
    "\n",
    "            # Standardise order of columns\n",
    "            df = df[['id', 'text', 'author_id', 'source', 'created_at', 'edit_history_tweet_ids', 'lang', 'description', 'username', 'verified', 'name', 'location']]\n",
    "\n",
    "            include_header = batch_ix == 0\n",
    "            df.to_csv(\"real.csv\", mode='a', header=include_header)\n",
    "        except:\n",
    "            continue"
   ]
  },
  {
   "cell_type": "markdown",
   "id": "db50edd3",
   "metadata": {},
   "source": [
    "## Connecting original and later-fetched real news"
   ]
  },
  {
   "cell_type": "code",
   "execution_count": 4,
   "id": "90837679",
   "metadata": {},
   "outputs": [
    {
     "name": "stdout",
     "output_type": "stream",
     "text": [
      "117009\n",
      "179162\n",
      "296171\n"
     ]
    }
   ],
   "source": [
    "og = pd.read_csv(\"data/FakeNewsNet/real.csv\")\n",
    "later = pd.read_csv(\"real.csv\")\n",
    "\n",
    "# frames = [og, later]\n",
    "# new = pd.concat(frames)\n",
    "\n",
    "# new.to_csv(\"real_new.csv\")\n",
    "\n",
    "new = pd.read_csv(\"real_new.csv\")"
   ]
  },
  {
   "cell_type": "code",
   "execution_count": 6,
   "id": "cfca3b1f",
   "metadata": {},
   "outputs": [
    {
     "name": "stdout",
     "output_type": "stream",
     "text": [
      "117009\n",
      "179162\n",
      "296171\n",
      "True\n"
     ]
    }
   ],
   "source": [
    "print(len(og))\n",
    "print(len(later))\n",
    "print(len(new))\n",
    "print(len(og) + len(later) == len(new))"
   ]
  }
 ],
 "metadata": {
  "kernelspec": {
   "display_name": "Python 3 (ipykernel)",
   "language": "python",
   "name": "python3"
  },
  "language_info": {
   "codemirror_mode": {
    "name": "ipython",
    "version": 3
   },
   "file_extension": ".py",
   "mimetype": "text/x-python",
   "name": "python",
   "nbconvert_exporter": "python",
   "pygments_lexer": "ipython3",
   "version": "3.9.6"
  }
 },
 "nbformat": 4,
 "nbformat_minor": 5
}
